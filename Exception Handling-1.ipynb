{
 "cells": [
  {
   "cell_type": "markdown",
   "id": "2fea6b1c-386d-40ca-aa00-23f4879e9680",
   "metadata": {},
   "source": [
    "Q1. What is an Exception in python? Write the difference between Exceptions and Syntax errors."
   ]
  },
  {
   "cell_type": "markdown",
   "id": "69ab036b-c2e1-408b-9bec-6517734ae116",
   "metadata": {},
   "source": [
    "ANS: when we executing the program and if some type of error comes then executing is stop and they show the error.\n",
    "to avoid this error we use Exception, Exception avoid the stop of program, it help in what kind of error is accured.\n",
    "By handling exceptions, we can gracefully respond to errors, recover from exceptional situations, and ensure that our program doesn't crash unexpectedly.\n",
    "\n",
    "Difference between Exception and SyntaxError is that ,exception happen during the program's execution,while syntax errors happen before execution. Exception can be caught and handled,while syntax errors need to be fixed in the code.\n"
   ]
  },
  {
   "cell_type": "markdown",
   "id": "bfaf5248-3d8b-4ffa-99a4-779fa1999130",
   "metadata": {
    "jp-MarkdownHeadingCollapsed": true,
    "tags": []
   },
   "source": [
    "Q2. What happen when an exception is not handled? Explain with example."
   ]
  },
  {
   "cell_type": "markdown",
   "id": "5f6bffab-2eb3-4667-86da-c7af297dfc10",
   "metadata": {},
   "source": [
    "ANS: when Exception is not handled then system stops program or say executing will stop and show error, otherwise if Exception is handled very well then program executing will continue as it is.\n",
    "\n",
    "for example\n"
   ]
  },
  {
   "cell_type": "code",
   "execution_count": 1,
   "id": "bacfd6b2-9547-42c7-9dc6-51f75f12d57b",
   "metadata": {},
   "outputs": [
    {
     "ename": "NameError",
     "evalue": "name 'a' is not defined",
     "output_type": "error",
     "traceback": [
      "\u001b[0;31m---------------------------------------------------------------------------\u001b[0m",
      "\u001b[0;31mNameError\u001b[0m                                 Traceback (most recent call last)",
      "Cell \u001b[0;32mIn[1], line 2\u001b[0m\n\u001b[1;32m      1\u001b[0m \u001b[38;5;66;03m#whithout exeption handle\u001b[39;00m\n\u001b[0;32m----> 2\u001b[0m \u001b[38;5;28mprint\u001b[39m(\u001b[43ma\u001b[49m)\n",
      "\u001b[0;31mNameError\u001b[0m: name 'a' is not defined"
     ]
    }
   ],
   "source": [
    "#whithout exeption handle\n",
    "print(a)"
   ]
  },
  {
   "cell_type": "code",
   "execution_count": null,
   "id": "e2e8d8ee-1003-48a2-905d-6de5e515b251",
   "metadata": {},
   "outputs": [],
   "source": [
    "#with except handle\n",
    "try:\n",
    "    print(a)\n",
    "except NameError as e:\n",
    "    print(e)"
   ]
  },
  {
   "cell_type": "markdown",
   "id": "fdba42df-5900-4ddc-b411-58201410c40a",
   "metadata": {},
   "source": [
    "Q3. which python statement are used to catch and handled exception ? explain with example?\n",
    "\n"
   ]
  },
  {
   "cell_type": "markdown",
   "id": "7b6264c3-02fe-48a3-87ce-bf45d3968878",
   "metadata": {},
   "source": [
    "In Python, the `try` and `except` statements are used to catch and handle exceptions. The `try` block encloses the code that might raise an exception, and the `except` block is used to handle the exception if it occurs. If an exception is raised in the `try` block, Python searches for a matching `except` block that can handle that specific exception type.\n",
    "\n"
   ]
  },
  {
   "cell_type": "code",
   "execution_count": null,
   "id": "4a9b1fdd-58b5-497e-b5b1-dfe679408146",
   "metadata": {},
   "outputs": [],
   "source": [
    "#example\n",
    "a=0\n",
    "b=1\n",
    "try: \n",
    "    b/a\n",
    "except ZeroDivisionError:\n",
    "    print(\"can't divide with 0\")"
   ]
  },
  {
   "cell_type": "markdown",
   "id": "c53fb23e-0f2f-4f40-a225-bbf680f418ae",
   "metadata": {},
   "source": [
    "Q4. Explain with Example: <br> i)try and else <br> ii)finally <br> iii)rise"
   ]
  },
  {
   "cell_type": "code",
   "execution_count": null,
   "id": "7d2a5643-649c-40cb-b4e9-7c9c117a6816",
   "metadata": {},
   "outputs": [],
   "source": [
    "#i)try and else\n",
    "#try used as a error handling and else for if error comes then code go to else option\n",
    "#lets try with example\n",
    "try:\n",
    "    print(a1+1)\n",
    "except NameError as e:\n",
    "    print(e)"
   ]
  },
  {
   "cell_type": "code",
   "execution_count": null,
   "id": "21341f30-e986-4723-a08a-5df123da441e",
   "metadata": {},
   "outputs": [],
   "source": [
    "#ii)finally \n",
    "#finally is used in try and except code \n",
    "#finally always execute\n",
    "try:\n",
    "    1/0\n",
    "except ZeroDivisionError as e:\n",
    "    print (e)\n",
    "finally:\n",
    "    print('this always execute')"
   ]
  },
  {
   "cell_type": "code",
   "execution_count": null,
   "id": "abf395ed-cd52-4a86-ae1f-fa5ae06e3e06",
   "metadata": {},
   "outputs": [],
   "source": [
    "#iii) The raise statement is used to explicitly raise an exception in Python.\n",
    "#It allows us to create and raise our own exceptions or re-raise existing exceptions.\n",
    "#example\n",
    "def validate_age(n):\n",
    "    if n<18:\n",
    "        raise ValueError (\"age is invalid\")\n",
    "    else:\n",
    "        print('age is valid')\n",
    "        \n",
    "        \n",
    "try: \n",
    "    a=int(input('enter your age'))\n",
    "    validate_age(a)\n",
    "except ValueError as e:\n",
    "          print(e)"
   ]
  },
  {
   "cell_type": "markdown",
   "id": "7c741401-5028-4907-a706-5d5967c19e7a",
   "metadata": {},
   "source": [
    "Q5) What are Custom Exception in python ?Why do we need Custom Exceptions? Explain with an example."
   ]
  },
  {
   "cell_type": "markdown",
   "id": "42df0bc2-1806-4a92-9e1a-819f2eb22648",
   "metadata": {},
   "source": [
    "ANS: In Python, custom exceptions are user-defined exceptions that allow us to create our own exception types based on specific scenarios or conditions in our code. Python provides a way to create custom exceptions by deriving them from the built-in Exception class or any of its subclasses.<br> in some casses there are no error according to program but if error is user-defined error is raise we understand the error.<br> for example if we have to if we have to take admission in school and minimum age required is 5 year old and if any child whos age is 4 or >5 is not aplicable then we use `CUSTOM ERROR`.<br>lets understand with following example:"
   ]
  },
  {
   "cell_type": "code",
   "execution_count": null,
   "id": "a5bfc5bb-1c11-40b9-90cb-660110486df1",
   "metadata": {},
   "outputs": [],
   "source": [
    "def Age_Condition(age):\n",
    "    if age<5:\n",
    "        raise ValueError (\"Required AGE is Minimum 5 Years\")\n",
    "    else :\n",
    "        print (\"age Verified\")\n",
    "    \n",
    "try:\n",
    "    AGE=Age_Condition(int(input(\"enter your age to verify\")))\n",
    "except ValueError as e:\n",
    "    print(e)"
   ]
  },
  {
   "cell_type": "code",
   "execution_count": null,
   "id": "f9344dcf-e2a2-4902-8ce3-ba086911a342",
   "metadata": {},
   "outputs": [],
   "source": [
    "def Age_Condition(age):\n",
    "    if age<5:\n",
    "        raise ValueError (\"Required AGE is Minimum 5 Years\")\n",
    "    else :\n",
    "        print (\"age Verified\")\n",
    "    \n",
    "try:\n",
    "    AGE=Age_Condition(int(input(\"enter your age to verify\")))\n",
    "except ValueError as e:\n",
    "    print(e)"
   ]
  },
  {
   "cell_type": "markdown",
   "id": "d201a771-92c4-4b32-8693-1a8c125ff982",
   "metadata": {},
   "source": [
    "Q6) Create a Custom exception class .use this class to handle an exception.\n",
    "\n"
   ]
  },
  {
   "cell_type": "code",
   "execution_count": null,
   "id": "675a8827-c3ca-48a2-aee8-618d766fa386",
   "metadata": {},
   "outputs": [],
   "source": [
    "class InvalidInputError(Exception):\n",
    "    def __init__(self, message):\n",
    "        super().__init__(message)\n",
    "\n",
    "\n",
    "def divide_numbers(a, b):\n",
    "    if b == 0:\n",
    "        raise InvalidInputError(\"Cannot divide by zero.\")\n",
    "    return a / b\n",
    "\n",
    "\n",
    "# Example usage:\n",
    "try:\n",
    "    num1 = int(input('Enter number 1'))\n",
    "    num2 = int(input('Enter number 2'))\n",
    "    result = divide_numbers(num1, num2)\n",
    "    print(f\"The result of division is: {result}\")\n",
    "except InvalidInputError as e:\n",
    "    print(f\"Error: {e}\")\n"
   ]
  },
  {
   "cell_type": "code",
   "execution_count": null,
   "id": "6150cd21-fb46-4cc5-ab22-86ff9ec0fce3",
   "metadata": {},
   "outputs": [],
   "source": []
  },
  {
   "cell_type": "code",
   "execution_count": null,
   "id": "7ad3f43f-b8f6-4f43-89e6-ea3d7abc83c0",
   "metadata": {},
   "outputs": [],
   "source": []
  }
 ],
 "metadata": {
  "kernelspec": {
   "display_name": "Python 3 (ipykernel)",
   "language": "python",
   "name": "python3"
  },
  "language_info": {
   "codemirror_mode": {
    "name": "ipython",
    "version": 3
   },
   "file_extension": ".py",
   "mimetype": "text/x-python",
   "name": "python",
   "nbconvert_exporter": "python",
   "pygments_lexer": "ipython3",
   "version": "3.10.8"
  }
 },
 "nbformat": 4,
 "nbformat_minor": 5
}
